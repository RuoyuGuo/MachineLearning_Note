{
 "cells": [
  {
   "cell_type": "markdown",
   "metadata": {},
   "source": [
    "source: https://www.youtube.com/watch?v=1UqCjFQiiy0&list=PLJV_el3uVTsPy9oCRY30oBPNLCo89yu49&index=4\n"
   ]
  },
  {
   "cell_type": "code",
   "execution_count": 2,
   "metadata": {},
   "outputs": [],
   "source": [
    "import numpy as np\n",
    "import matplotlib.pyplot as plt"
   ]
  },
  {
   "cell_type": "code",
   "execution_count": 3,
   "metadata": {},
   "outputs": [
    {
     "data": {
      "text/plain": [
       "-10"
      ]
     },
     "execution_count": 3,
     "metadata": {},
     "output_type": "execute_result"
    }
   ],
   "source": [
    "a = 1\n",
    "b = 10\n",
    "x = -a *b\n",
    "\n",
    "x"
   ]
  },
  {
   "cell_type": "code",
   "execution_count": 8,
   "metadata": {},
   "outputs": [],
   "source": [
    "x_data = [338., 333., 328., 207., 226., 25., 179., 60., 208., 606.]\n",
    "y_data = [640., 633., 619., 393., 428., 27., 193., 66., 226., 1591.]\n",
    "\n",
    "#y_data = b + w * x_data"
   ]
  },
  {
   "cell_type": "code",
   "execution_count": 9,
   "metadata": {},
   "outputs": [],
   "source": [
    "#random generate bias and weight \n",
    "#compute average error for each pair\n",
    "\n",
    "x = np.arange(-200, -100, 1)  #bias\n",
    "y = np.arange(-5, 5, 0.1)     #weight\n",
    "z = np.zeros((len(x), len(y)))\n",
    "\n",
    "\n",
    "X, Y = np.meshgrid(x, y)    \n",
    "\n",
    "#print(f'X = {X}')\n",
    "#print(f'Y = {Y}')\n",
    "\n",
    "for i in range(len(x)):     #200\n",
    "    for j in range(len(y)): #50 \n",
    "        b = x[i]           #assgin bias\n",
    "        w = y[j]           #assgin weight  \n",
    "        z[j][i] = 0        \n",
    "        for n in range(len(x_data)):\n",
    "            #use Loss function to compute error\n",
    "            z[j][i] = z[j][i] + (y_data[n] - b - w*x_data[n]) ** 2 \n",
    "            \n",
    "        #average\n",
    "        z[j][i] = z[j][i]/len(x_data)\n",
    "        "
   ]
  },
  {
   "cell_type": "code",
   "execution_count": 17,
   "metadata": {},
   "outputs": [
    {
     "name": "stdout",
     "output_type": "stream",
     "text": [
      "-188.3668387495323\n",
      "2.6692640713379903\n"
     ]
    }
   ],
   "source": [
    "#ydata = b + w * xdata\n",
    "b = -120       #initial b\n",
    "w = -4         #initial w\n",
    "lr = 1      #learning rate\n",
    "iteration = int(1e+5)\n",
    "\n",
    "#Store initial values for plotting\n",
    "b_history = [b]\n",
    "w_history = [w]\n",
    "\n",
    "lr_b = 0\n",
    "lr_w = 0\n",
    "\n",
    "# Iterations\n",
    "for i in range(iteration):\n",
    "    \n",
    "    b_grad = 0.0\n",
    "    w_grad = 0.0\n",
    "    #sum of gradient\n",
    "    for j in range(len(x_data)):\n",
    "        b_grad = b_grad - 2 * (y_data[j] - b - w*x_data[j]) * (1)\n",
    "        w_grad = w_grad - 2 * (y_data[j] - b - w*x_data[j]) * (x_data[j])\n",
    "    \n",
    "    \n",
    "    lr_b = lr_b + b_grad ** 2\n",
    "    lr_w = lr_w + w_grad ** 2\n",
    "    \n",
    "    #Update parameters\n",
    "    b = b - lr/np.sqrt(lr_b) * b_grad\n",
    "    w = w - lr/np.sqrt(lr_w) * w_grad\n",
    "    \n",
    "    #store parameters for plotting\n",
    "    b_history.append(b)\n",
    "    w_history.append(w)\n",
    "\n",
    "\n",
    "print(b_history[-1])\n",
    "print(w_history[-1])"
   ]
  },
  {
   "cell_type": "code",
   "execution_count": 11,
   "metadata": {},
   "outputs": [
    {
     "data": {
      "image/png": "[encoded data removed]",
      "text/plain": [
       "<Figure size 432x288 with 1 Axes>"
      ]
     },
     "metadata": {
      "needs_background": "light"
     },
     "output_type": "display_data"
    }
   ],
   "source": [
    "#plot the figure\n",
    "\n",
    "plt.contourf(x,y,Z, 50, alpha=0.5, cmap=plt.get_cmap('jet'))    \n",
    "plt.plot([-188.4], [2.67], 'x', ms=12, markeredgewidth=3, color='orange')\n",
    "plt.plot(b_history, w_history, 'o-', ms=3, lw=1.5, color='black')\n",
    "plt.xlim(-200,-100)\n",
    "plt.ylim(-5,5)\n",
    "plt.xlabel(r'$b$', fontsize=16)\n",
    "plt.ylabel(r'$w$', fontsize=16)\n",
    "plt.show()"
   ]
  },
  {
   "cell_type": "code",
   "execution_count": null,
   "metadata": {},
   "outputs": [],
   "source": []
  }
 ],
 "metadata": {
  "kernelspec": {
   "display_name": "Python 3",
   "language": "python",
   "name": "python3"
  },
  "language_info": {
   "codemirror_mode": {
    "name": "ipython",
    "version": 3
   },
   "file_extension": ".py",
   "mimetype": "text/x-python",
   "name": "python",
   "nbconvert_exporter": "python",
   "pygments_lexer": "ipython3",
   "version": "3.7.4"
  }
 },
 "nbformat": 4,
 "nbformat_minor": 2
}
