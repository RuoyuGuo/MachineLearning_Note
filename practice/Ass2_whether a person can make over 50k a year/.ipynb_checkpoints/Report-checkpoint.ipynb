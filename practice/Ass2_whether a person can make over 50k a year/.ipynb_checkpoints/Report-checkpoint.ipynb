{
 "cells": [
  {
   "cell_type": "markdown",
   "metadata": {},
   "source": [
    "# <center> ML Assignment2 whether a person makes over 50k a year\n",
    "supervised learning, classification"
   ]
  },
  {
   "cell_type": "markdown",
   "metadata": {},
   "source": [
    "### training data:\n",
    "a series index of a person\n",
    "### input: \n",
    "106 dim represent a person\n",
    "### output: \n",
    "whether a person makes over 50k a year\n",
    "\n",
    "1 >= 50k\n",
    "\n",
    "0 < 50k"
   ]
  },
  {
   "cell_type": "markdown",
   "metadata": {},
   "source": [
    "### specification:\n",
    "question: report.docx\n",
    "\n",
    "raw training data: train.csv\n",
    "\n",
    "raw test data: test.csv\n",
    "\n",
    "training data: X_train\n",
    "\n",
    "label of training data: Y_train\n",
    "\n",
    "test data: X_test\n",
    "\n",
    "sample output: predicted_output.py\n",
    "\n",
    "sample code: \n",
    "\n",
    "* logistic regression: logistic_regression.py\n",
    "* generative model: generative_model.py\n",
    "\n",
    "baseline:\n",
    "\n",
    "table | public | private\n",
    "--- | --- | ---\n",
    "strong baseline | 0.85565 | 0.86058\n",
    "simple baseline | 0.84434 | 0.84031\n",
    "\n",
    "\n",
    "more: https://www.kaggle.com/c/ml2019spring-hw2/overview\n",
    "\n"
   ]
  },
  {
   "cell_type": "markdown",
   "metadata": {},
   "source": [
    "# <center> questions in report"
   ]
  },
  {
   "cell_type": "code",
   "execution_count": 39,
   "metadata": {},
   "outputs": [],
   "source": [
    "import numpy as np\n",
    "import matplotlib.pyplot as plt\n",
    "import pandas as pd"
   ]
  },
  {
   "cell_type": "markdown",
   "metadata": {},
   "source": [
    "### Question 1:\n",
    "#### Logistic regression, Discriminative model:\n",
    "\n",
    "* score:\n",
    "\n",
    "index|model|normalization|regularization|lr|public|private|\n",
    ":---:|:---:|:---:|:---:|:---:|:---:|:---:\n",
    "0|Logistic|std|0|0.2|0.85098|0.84903\n",
    "\n",
    "#### Generative model:\n",
    "\n",
    "* score:\n",
    "\n",
    "index|model|normalization|regularization|lr|public|private|\n",
    ":---:|:---:|:---:|:---:|:---:|:---:|:---:\n",
    "0|Gaussian|std|non|non|0.84643|0.84105\n",
    "0|Gaussian|min_max|non|non|0.23292|0.23952\n",
    "0|Gaussian|mean|non|non|0.84643|0.84092\n",
    "0|Gaussian|unit_length|non|non|0.76707|0.76047"
   ]
  },
  {
   "cell_type": "markdown",
   "metadata": {},
   "source": []
  }
 ],
 "metadata": {
  "kernelspec": {
   "display_name": "Python 3",
   "language": "python",
   "name": "python3"
  },
  "language_info": {
   "codemirror_mode": {
    "name": "ipython",
    "version": 3
   },
   "file_extension": ".py",
   "mimetype": "text/x-python",
   "name": "python",
   "nbconvert_exporter": "python",
   "pygments_lexer": "ipython3",
   "version": "3.7.4"
  }
 },
 "nbformat": 4,
 "nbformat_minor": 2
}
