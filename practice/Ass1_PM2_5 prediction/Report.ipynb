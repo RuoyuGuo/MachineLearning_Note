{
 "cells": [
  {
   "cell_type": "markdown",
   "metadata": {},
   "source": [
    "# <center> ML Assignment1 PM2.5 prediction\n",
    "supervised learning, linear regression"
   ]
  },
  {
   "cell_type": "markdown",
   "metadata": {},
   "source": [
    "### training data:\n",
    "air index of continuous 20 days for 12 months\n",
    "### input: \n",
    "continuous 9 hours air index \n",
    "### output: \n",
    "PM2.5 of 10th hour"
   ]
  },
  {
   "cell_type": "markdown",
   "metadata": {},
   "source": [
    "### specification:\n",
    "question: report.docx\n",
    "\n",
    "training data: train.csv\n",
    "\n",
    "test data: test.csv\n",
    "\n",
    "sample output: predicted_output.py\n",
    "\n",
    "sample code: PM_pre_*.py\n",
    "\n",
    "baseline:\n",
    "\n",
    "table | public | private\n",
    "--- | --- | ---\n",
    "strong baseline | 5.63870 | 7.05135\n",
    "simple baseline | 7.66533 | 8.55486\n",
    "\n",
    "\n",
    "more: https://ntumlta2019.github.io/ml-web-hw1/\n",
    "\n"
   ]
  },
  {
   "cell_type": "markdown",
   "metadata": {},
   "source": [
    "## <center> question in report"
   ]
  },
  {
   "cell_type": "code",
   "execution_count": 6,
   "metadata": {},
   "outputs": [],
   "source": [
    "import numpy as np\n",
    "import matplotlib.pyplot as plt\n",
    "import pandas as pd"
   ]
  },
  {
   "cell_type": "markdown",
   "metadata": {},
   "source": [
    "### model1: \n",
    "* features: 18 indexes * 9 hours + 1 bias, 18 indexes per hour within 9 continuous hours and one bias\n",
    "* score: \n",
    "    * no regularization\n",
    "    * regularization weight: $\\lambda = 0.1$\n",
    "    * regularization weight: $\\lambda = 0.01$\n",
    "    * regularization weight: $\\lambda = 0.001$\n",
    "    * regularization weight: $\\lambda = 0.0001$"
   ]
  },
  {
   "cell_type": "code",
   "execution_count": 30,
   "metadata": {
    "scrolled": false
   },
   "outputs": [
    {
     "name": "stdout",
     "output_type": "stream",
     "text": [
      "        private_score  public_score  ave_test_score  train_score\n",
      "weight                                                          \n",
      "0.0000        7.76254       6.41953        7.091035      6.08254\n",
      "0.1000        7.76213       6.42287        7.092500      6.08481\n",
      "0.0100        7.76244       6.41985        7.091145      6.08277\n",
      "0.0010        7.76253       6.41956        7.091045      6.08256\n",
      "0.0001        7.76254       6.41953        7.091035      6.08254\n"
     ]
    },
    {
     "data": {
      "image/png": "[encoded data removed]",
      "text/plain": [
       "<Figure size 432x288 with 1 Axes>"
      ]
     },
     "metadata": {
      "needs_background": "light"
     },
     "output_type": "display_data"
    }
   ],
   "source": [
    "score = {\n",
    "    'no regularization': [7.76254, 6.41953, 6.08254],\n",
    "    'regularization weight 0.1': [7.76213, 6.42287, 6.08481],\n",
    "    'regularization weight: 0.01': [7.76244, 6.41985, 6.08277],\n",
    "    'regularization weight: 0.001': [7.76253, 6.41956, 6.08256],\n",
    "    'regularization weight: 0.0001': [7.76254, 6.41953, 6.08254]\n",
    "}\n",
    "\n",
    "pd_score = pd.DataFrame({\n",
    "    'weight': [0, 0.1, 0.01, 0.001, 0.0001],\n",
    "    'private_score': [score[i][0] for i in score],\n",
    "    'public_score': [score[i][1] for i in score],\n",
    "    'ave_test_score': [(score[i][0] + score[i][1])/2 for i in score],\n",
    "    'train_score': [score[i][2] for i in score]\n",
    "})\n",
    "\n",
    "pd_score = pd_score.set_index('weight')\n",
    "\n",
    "print(pd_score)\n",
    "\n",
    "pd_score[['ave_test_score', 'train_score']].plot()\n",
    "plt.show()"
   ]
  },
  {
   "cell_type": "markdown",
   "metadata": {},
   "source": [
    "### model2:\n",
    "* features: pm2.5 * 9 hours + 1 bias, pm2.5 figure per hour within 9 continuous hours and one bias\n",
    "* score:\n",
    "    * no regularization\n",
    "    * regularization weight: $\\lambda = 0.1$\n",
    "    * regularization weight: $\\lambda = 0.01$\n",
    "    * regularization weight: $\\lambda = 0.001$\n",
    "    * regularization weight: $\\lambda = 0.0001$"
   ]
  },
  {
   "cell_type": "code",
   "execution_count": null,
   "metadata": {},
   "outputs": [],
   "source": [
    "'''\n",
    "score = {\n",
    "    'no regularization': [28.73964, 23.46339, 6.12303],\n",
    "    'regularization weight 0.1': [7.76213, 6.42287, 6.08481],\n",
    "    'regularization weight: 0.01': [7.76244, 6.41985, 6.08277],\n",
    "    'regularization weight: 0.001': [7.76253, 6.41956, 6.08256],\n",
    "    'regularization weight: 0.0001': [7.76254, 6.41953, 6.08254]\n",
    "}\n",
    "\n",
    "pd_score = pd.DataFrame({\n",
    "    'weight': [0, 0.1, 0.01, 0.001, 0.0001],\n",
    "    'private_score': [score[i][0] for i in score],\n",
    "    'public_score': [score[i][1] for i in score],\n",
    "    'ave_test_score': [(score[i][0] + score[i][1])/2 for i in score],\n",
    "    'train_score': [score[i][2] for i in score]\n",
    "})\n",
    "\n",
    "pd_score = pd_score.set_index('weight')\n",
    "\n",
    "print(pd_score)\n",
    "\n",
    "pd_score[['ave_test_score', 'train_score']].plot()\n",
    "plt.show()\n",
    "'''"
   ]
  },
  {
   "cell_type": "markdown",
   "metadata": {},
   "source": [
    "### report\n",
    "\n",
    "1. Apparently, model1 could be a good model but model2 it not. \n"
   ]
  }
 ],
 "metadata": {
  "kernelspec": {
   "display_name": "Python 3",
   "language": "python",
   "name": "python3"
  },
  "language_info": {
   "codemirror_mode": {
    "name": "ipython",
    "version": 3
   },
   "file_extension": ".py",
   "mimetype": "text/x-python",
   "name": "python",
   "nbconvert_exporter": "python",
   "pygments_lexer": "ipython3",
   "version": "3.7.4"
  }
 },
 "nbformat": 4,
 "nbformat_minor": 2
}
